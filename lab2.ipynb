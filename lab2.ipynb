{
 "cells": [
  {
   "cell_type": "markdown",
   "metadata": {},
   "source": [
    "Характеристики датасета"
   ]
  },
  {
   "cell_type": "code",
   "execution_count": 118,
   "metadata": {},
   "outputs": [
    {
     "data": {
      "text/html": [
       "<div>\n",
       "<style scoped>\n",
       "    .dataframe tbody tr th:only-of-type {\n",
       "        vertical-align: middle;\n",
       "    }\n",
       "\n",
       "    .dataframe tbody tr th {\n",
       "        vertical-align: top;\n",
       "    }\n",
       "\n",
       "    .dataframe thead th {\n",
       "        text-align: right;\n",
       "    }\n",
       "</style>\n",
       "<table border=\"1\" class=\"dataframe\">\n",
       "  <thead>\n",
       "    <tr style=\"text-align: right;\">\n",
       "      <th></th>\n",
       "      <th>COMMENT_ID</th>\n",
       "      <th>AUTHOR</th>\n",
       "      <th>DATE</th>\n",
       "      <th>CONTENT</th>\n",
       "      <th>CLASS</th>\n",
       "    </tr>\n",
       "  </thead>\n",
       "  <tbody>\n",
       "    <tr>\n",
       "      <th>0</th>\n",
       "      <td>LZQPQhLyRh80UYxNuaDWhIGQYNQ96IuCg-AYWqNPjpU</td>\n",
       "      <td>Julius NM</td>\n",
       "      <td>2013-11-07T06:20:48</td>\n",
       "      <td>Huh, anyway check out this you[tube] channel: ...</td>\n",
       "      <td>1</td>\n",
       "    </tr>\n",
       "    <tr>\n",
       "      <th>1</th>\n",
       "      <td>LZQPQhLyRh_C2cTtd9MvFRJedxydaVW-2sNg5Diuo4A</td>\n",
       "      <td>adam riyati</td>\n",
       "      <td>2013-11-07T12:37:15</td>\n",
       "      <td>Hey guys check out my new channel and our firs...</td>\n",
       "      <td>1</td>\n",
       "    </tr>\n",
       "    <tr>\n",
       "      <th>2</th>\n",
       "      <td>LZQPQhLyRh9MSZYnf8djyk0gEF9BHDPYrrK-qCczIY8</td>\n",
       "      <td>Evgeny Murashkin</td>\n",
       "      <td>2013-11-08T17:34:21</td>\n",
       "      <td>just for test I have to say murdev.com</td>\n",
       "      <td>1</td>\n",
       "    </tr>\n",
       "    <tr>\n",
       "      <th>3</th>\n",
       "      <td>z13jhp0bxqncu512g22wvzkasxmvvzjaz04</td>\n",
       "      <td>ElNino Melendez</td>\n",
       "      <td>2013-11-09T08:28:43</td>\n",
       "      <td>me shaking my sexy ass on my channel enjoy ^_^ ﻿</td>\n",
       "      <td>1</td>\n",
       "    </tr>\n",
       "    <tr>\n",
       "      <th>4</th>\n",
       "      <td>z13fwbwp1oujthgqj04chlngpvzmtt3r3dw</td>\n",
       "      <td>GsMega</td>\n",
       "      <td>2013-11-10T16:05:38</td>\n",
       "      <td>watch?v=vtaRGgvGtWQ   Check this out .﻿</td>\n",
       "      <td>1</td>\n",
       "    </tr>\n",
       "  </tbody>\n",
       "</table>\n",
       "</div>"
      ],
      "text/plain": [
       "                                    COMMENT_ID            AUTHOR  \\\n",
       "0  LZQPQhLyRh80UYxNuaDWhIGQYNQ96IuCg-AYWqNPjpU         Julius NM   \n",
       "1  LZQPQhLyRh_C2cTtd9MvFRJedxydaVW-2sNg5Diuo4A       adam riyati   \n",
       "2  LZQPQhLyRh9MSZYnf8djyk0gEF9BHDPYrrK-qCczIY8  Evgeny Murashkin   \n",
       "3          z13jhp0bxqncu512g22wvzkasxmvvzjaz04   ElNino Melendez   \n",
       "4          z13fwbwp1oujthgqj04chlngpvzmtt3r3dw            GsMega   \n",
       "\n",
       "                  DATE                                            CONTENT  \\\n",
       "0  2013-11-07T06:20:48  Huh, anyway check out this you[tube] channel: ...   \n",
       "1  2013-11-07T12:37:15  Hey guys check out my new channel and our firs...   \n",
       "2  2013-11-08T17:34:21             just for test I have to say murdev.com   \n",
       "3  2013-11-09T08:28:43   me shaking my sexy ass on my channel enjoy ^_^ ﻿   \n",
       "4  2013-11-10T16:05:38            watch?v=vtaRGgvGtWQ   Check this out .﻿   \n",
       "\n",
       "   CLASS  \n",
       "0      1  \n",
       "1      1  \n",
       "2      1  \n",
       "3      1  \n",
       "4      1  "
      ]
     },
     "execution_count": 118,
     "metadata": {},
     "output_type": "execute_result"
    }
   ],
   "source": [
    "import pandas as pd \n",
    "Psy = pd.read_csv('Youtube01-Psy.csv')\n",
    "KatyPerry = pd.read_csv('Youtube02-KatyPerry.csv')\n",
    "LMFAO = pd.read_csv('Youtube03-LMFAO.csv')\n",
    "Eminem = pd.read_csv('Youtube04-Eminem.csv')\n",
    "Shakira = pd.read_csv('Youtube05-Shakira.csv')\n",
    "data = pd.concat([Psy, KatyPerry, LMFAO, Eminem, Shakira])\n",
    "data.head()"
   ]
  },
  {
   "cell_type": "code",
   "execution_count": 119,
   "metadata": {},
   "outputs": [
    {
     "data": {
      "text/plain": [
       "(1956, 5)"
      ]
     },
     "execution_count": 119,
     "metadata": {},
     "output_type": "execute_result"
    }
   ],
   "source": [
    "data.shape"
   ]
  },
  {
   "cell_type": "code",
   "execution_count": 120,
   "metadata": {},
   "outputs": [
    {
     "name": "stdout",
     "output_type": "stream",
     "text": [
      "<class 'pandas.core.frame.DataFrame'>\n",
      "Index: 1956 entries, 0 to 369\n",
      "Data columns (total 5 columns):\n",
      " #   Column      Non-Null Count  Dtype \n",
      "---  ------      --------------  ----- \n",
      " 0   COMMENT_ID  1956 non-null   object\n",
      " 1   AUTHOR      1956 non-null   object\n",
      " 2   DATE        1711 non-null   object\n",
      " 3   CONTENT     1956 non-null   object\n",
      " 4   CLASS       1956 non-null   int64 \n",
      "dtypes: int64(1), object(4)\n",
      "memory usage: 91.7+ KB\n"
     ]
    }
   ],
   "source": [
    "data.info()"
   ]
  },
  {
   "cell_type": "code",
   "execution_count": 121,
   "metadata": {},
   "outputs": [
    {
     "data": {
      "text/plain": [
       "DATE          245\n",
       "COMMENT_ID      0\n",
       "AUTHOR          0\n",
       "CONTENT         0\n",
       "CLASS           0\n",
       "dtype: int64"
      ]
     },
     "execution_count": 121,
     "metadata": {},
     "output_type": "execute_result"
    }
   ],
   "source": [
    "data.isnull().sum().sort_values(ascending = False)"
   ]
  },
  {
   "cell_type": "code",
   "execution_count": 122,
   "metadata": {},
   "outputs": [
    {
     "name": "stderr",
     "output_type": "stream",
     "text": [
      "C:\\Users\\User\\AppData\\Local\\Temp\\ipykernel_17940\\1579451069.py:3: FutureWarning: \n",
      "\n",
      "Passing `palette` without assigning `hue` is deprecated and will be removed in v0.14.0. Assign the `x` variable to `hue` and set `legend=False` for the same effect.\n",
      "\n",
      "  sns.countplot(x='CLASS', data =data, palette ='hls')\n"
     ]
    },
    {
     "data": {
      "image/png": "[encoded data removed]",
      "text/plain": [
       "<Figure size 640x480 with 1 Axes>"
      ]
     },
     "metadata": {},
     "output_type": "display_data"
    },
    {
     "data": {
      "text/plain": [
       "<Figure size 640x480 with 0 Axes>"
      ]
     },
     "metadata": {},
     "output_type": "display_data"
    }
   ],
   "source": [
    "from matplotlib import pyplot as plt\n",
    "import seaborn as sns\n",
    "sns.countplot(x='CLASS', data =data, palette ='hls')\n",
    "plt.show()\n",
    "plt.savefig('count_plot')"
   ]
  },
  {
   "cell_type": "markdown",
   "metadata": {},
   "source": [
    "Преобразование датасета"
   ]
  },
  {
   "cell_type": "code",
   "execution_count": 123,
   "metadata": {},
   "outputs": [],
   "source": [
    "import numpy as np\n",
    "def date_clear(date):\n",
    "        date_str = str(date)\n",
    "        if date_str in [None, np.nan, \"b\", \"0\", \"None\"]:\n",
    "          return np.nan\n",
    "    \n",
    "        if \"T\" in date_str:\n",
    "            split_datetime = date_str.split(\"T\")\n",
    "        else:\n",
    "            split_datetime = date_str.split()\n",
    "     \n",
    "        date_part = split_datetime[0]\n",
    "     \n",
    "        formatted_date = date_part.replace(\"-\", \"/\")\n",
    "    \n",
    "        return formatted_date\n",
    "\n"
   ]
  },
  {
   "cell_type": "code",
   "execution_count": 124,
   "metadata": {},
   "outputs": [],
   "source": [
    "data[\"DATE\"] = data[\"DATE\"].apply(date_clear)"
   ]
  },
  {
   "cell_type": "code",
   "execution_count": 125,
   "metadata": {},
   "outputs": [
    {
     "data": {
      "text/plain": [
       "COMMENT_ID    0\n",
       "AUTHOR        0\n",
       "DATE          0\n",
       "CONTENT       0\n",
       "CLASS         0\n",
       "dtype: int64"
      ]
     },
     "execution_count": 125,
     "metadata": {},
     "output_type": "execute_result"
    }
   ],
   "source": [
    "data.isnull().sum().sort_values(ascending = False)"
   ]
  },
  {
   "cell_type": "code",
   "execution_count": 126,
   "metadata": {},
   "outputs": [
    {
     "name": "stdout",
     "output_type": "stream",
     "text": [
      "<class 'pandas.core.frame.DataFrame'>\n",
      "Index: 1956 entries, 0 to 369\n",
      "Data columns (total 5 columns):\n",
      " #   Column      Non-Null Count  Dtype \n",
      "---  ------      --------------  ----- \n",
      " 0   COMMENT_ID  1956 non-null   object\n",
      " 1   AUTHOR      1956 non-null   object\n",
      " 2   DATE        1956 non-null   object\n",
      " 3   CONTENT     1956 non-null   object\n",
      " 4   CLASS       1956 non-null   int64 \n",
      "dtypes: int64(1), object(4)\n",
      "memory usage: 91.7+ KB\n"
     ]
    }
   ],
   "source": [
    "data.info()"
   ]
  },
  {
   "cell_type": "code",
   "execution_count": 127,
   "metadata": {},
   "outputs": [],
   "source": [
    "import re\n",
    "def content_clear(date):\n",
    "    date_str = str(date)\n",
    "    date_str = re.split(\" \", date_str)   \n",
    "    Link = \"http\"\n",
    "    Link1 = \"/watch\"\n",
    "    Nik = \"@\"\n",
    "    Money = \"$\"\n",
    "    new_str = \"\"\n",
    "    for word in date_str:\n",
    "        if Link in word:\n",
    "            word = \"weblink\"\n",
    "        if Link1 in word:\n",
    "            word = \"weblink\"  \n",
    "        if Nik in word:\n",
    "            word = \"nickname\"  \n",
    "        if Money in word:\n",
    "            word = \"valuemoney\"    \n",
    "        if any(char.isdigit() for char in word):\n",
    "            word = \"valuenumbers\"   \n",
    "        new_str += \" \"\n",
    "        new_str += word\n",
    "\n",
    "    return new_str\n",
    "\n",
    "data[\"CONTENT\"] = data[\"CONTENT\"].apply(content_clear)\n"
   ]
  },
  {
   "cell_type": "code",
   "execution_count": 128,
   "metadata": {},
   "outputs": [
    {
     "data": {
      "text/html": [
       "<div>\n",
       "<style scoped>\n",
       "    .dataframe tbody tr th:only-of-type {\n",
       "        vertical-align: middle;\n",
       "    }\n",
       "\n",
       "    .dataframe tbody tr th {\n",
       "        vertical-align: top;\n",
       "    }\n",
       "\n",
       "    .dataframe thead th {\n",
       "        text-align: right;\n",
       "    }\n",
       "</style>\n",
       "<table border=\"1\" class=\"dataframe\">\n",
       "  <thead>\n",
       "    <tr style=\"text-align: right;\">\n",
       "      <th></th>\n",
       "      <th>COMMENT_ID</th>\n",
       "      <th>AUTHOR</th>\n",
       "      <th>DATE</th>\n",
       "      <th>CONTENT</th>\n",
       "      <th>CLASS</th>\n",
       "    </tr>\n",
       "  </thead>\n",
       "  <tbody>\n",
       "    <tr>\n",
       "      <th>0</th>\n",
       "      <td>LZQPQhLyRh80UYxNuaDWhIGQYNQ96IuCg-AYWqNPjpU</td>\n",
       "      <td>Julius NM</td>\n",
       "      <td>2013/11/07</td>\n",
       "      <td>huh anyway check out this you tube channel val...</td>\n",
       "      <td>1</td>\n",
       "    </tr>\n",
       "    <tr>\n",
       "      <th>1</th>\n",
       "      <td>LZQPQhLyRh_C2cTtd9MvFRJedxydaVW-2sNg5Diuo4A</td>\n",
       "      <td>adam riyati</td>\n",
       "      <td>2013/11/07</td>\n",
       "      <td>hey guys check out my new channel and our firs...</td>\n",
       "      <td>1</td>\n",
       "    </tr>\n",
       "    <tr>\n",
       "      <th>2</th>\n",
       "      <td>LZQPQhLyRh9MSZYnf8djyk0gEF9BHDPYrrK-qCczIY8</td>\n",
       "      <td>Evgeny Murashkin</td>\n",
       "      <td>2013/11/08</td>\n",
       "      <td>just for test i have to say murdev com</td>\n",
       "      <td>1</td>\n",
       "    </tr>\n",
       "    <tr>\n",
       "      <th>3</th>\n",
       "      <td>z13jhp0bxqncu512g22wvzkasxmvvzjaz04</td>\n",
       "      <td>ElNino Melendez</td>\n",
       "      <td>2013/11/09</td>\n",
       "      <td>me shaking my sexy ass on my channel enjoy</td>\n",
       "      <td>1</td>\n",
       "    </tr>\n",
       "    <tr>\n",
       "      <th>4</th>\n",
       "      <td>z13fwbwp1oujthgqj04chlngpvzmtt3r3dw</td>\n",
       "      <td>GsMega</td>\n",
       "      <td>2013/11/10</td>\n",
       "      <td>watch v vtarggvgtwq check this out</td>\n",
       "      <td>1</td>\n",
       "    </tr>\n",
       "    <tr>\n",
       "      <th>5</th>\n",
       "      <td>LZQPQhLyRh9-wNRtlZDM90f1k0BrdVdJyN_YsaSwfxc</td>\n",
       "      <td>Jason Haddad</td>\n",
       "      <td>2013/11/26</td>\n",
       "      <td>hey check out my new website this site is abou...</td>\n",
       "      <td>1</td>\n",
       "    </tr>\n",
       "    <tr>\n",
       "      <th>6</th>\n",
       "      <td>z13lfzdo5vmdi1cm123te5uz2mqig1brz04</td>\n",
       "      <td>ferleck ferles</td>\n",
       "      <td>2013/11/27</td>\n",
       "      <td>subscribe to my channel</td>\n",
       "      <td>1</td>\n",
       "    </tr>\n",
       "    <tr>\n",
       "      <th>7</th>\n",
       "      <td>z122wfnzgt30fhubn04cdn3xfx2mxzngsl40k</td>\n",
       "      <td>Bob Kanowski</td>\n",
       "      <td>2013/11/28</td>\n",
       "      <td>i turned it on mute as soon is i came on i jus...</td>\n",
       "      <td>0</td>\n",
       "    </tr>\n",
       "    <tr>\n",
       "      <th>8</th>\n",
       "      <td>z13ttt1jcraqexk2o234ghbgzxymz1zzi04</td>\n",
       "      <td>Cony</td>\n",
       "      <td>2013/11/28</td>\n",
       "      <td>you should check my channel for funny videos</td>\n",
       "      <td>1</td>\n",
       "    </tr>\n",
       "    <tr>\n",
       "      <th>9</th>\n",
       "      <td>z12avveb4xqiirsix04chxviiljryduwxg0</td>\n",
       "      <td>BeBe Burkey</td>\n",
       "      <td>2013/11/28</td>\n",
       "      <td>and u should d check my channel and tell me wh...</td>\n",
       "      <td>1</td>\n",
       "    </tr>\n",
       "    <tr>\n",
       "      <th>10</th>\n",
       "      <td>z13auhww3oufjn1qo04ci3grqqjmfjexxuo0k</td>\n",
       "      <td>Huckyduck</td>\n",
       "      <td>2013/11/28</td>\n",
       "      <td>hey subscribe to me</td>\n",
       "      <td>1</td>\n",
       "    </tr>\n",
       "    <tr>\n",
       "      <th>11</th>\n",
       "      <td>z13xit5agm2zyh4f523rst2gowmbx5bml</td>\n",
       "      <td>Lone Twistt</td>\n",
       "      <td>2013/11/28</td>\n",
       "      <td>once you have started reading do not stop if y...</td>\n",
       "      <td>1</td>\n",
       "    </tr>\n",
       "    <tr>\n",
       "      <th>12</th>\n",
       "      <td>z13pejoiuozwxtdu323dspopnri4xts0f</td>\n",
       "      <td>Archie Lewis</td>\n",
       "      <td>2013/11/28</td>\n",
       "      <td>weblink</td>\n",
       "      <td>1</td>\n",
       "    </tr>\n",
       "    <tr>\n",
       "      <th>13</th>\n",
       "      <td>z121zxaxsq25z5k5o04ch1o5jqqfij3gtm40k</td>\n",
       "      <td>TheUploadaddict</td>\n",
       "      <td>2013/11/28</td>\n",
       "      <td>subscribe like comment</td>\n",
       "      <td>1</td>\n",
       "    </tr>\n",
       "    <tr>\n",
       "      <th>14</th>\n",
       "      <td>z12oglnpoq3gjh4om04cfdlbgp2uepyytpw0k</td>\n",
       "      <td>Francisco Nora</td>\n",
       "      <td>2013/11/28</td>\n",
       "      <td>please like d weblink</td>\n",
       "      <td>1</td>\n",
       "    </tr>\n",
       "    <tr>\n",
       "      <th>15</th>\n",
       "      <td>z13phrmwrkfisn5er22eyrbpbvaiwfvwf04</td>\n",
       "      <td>Gaming and Stuff PRO</td>\n",
       "      <td>2013/11/28</td>\n",
       "      <td>hello do you like gaming art videos scientific...</td>\n",
       "      <td>1</td>\n",
       "    </tr>\n",
       "    <tr>\n",
       "      <th>16</th>\n",
       "      <td>z13bgdvyluihfv11i22rgxwhuvabzz1os04</td>\n",
       "      <td>Zielimeek21</td>\n",
       "      <td>2013/11/28</td>\n",
       "      <td>i m only checking the views</td>\n",
       "      <td>0</td>\n",
       "    </tr>\n",
       "    <tr>\n",
       "      <th>17</th>\n",
       "      <td>z13vxpnoxsyeuv2jr04cctprprb1slnxdf4</td>\n",
       "      <td>OutrightIgnite</td>\n",
       "      <td>2013/11/28</td>\n",
       "      <td>weblink</td>\n",
       "      <td>1</td>\n",
       "    </tr>\n",
       "    <tr>\n",
       "      <th>18</th>\n",
       "      <td>z12qth5j0ob1fx3q404chvy4fz32tbkpllk0k</td>\n",
       "      <td>Tony K Frazier</td>\n",
       "      <td>2013/11/28</td>\n",
       "      <td>weblink</td>\n",
       "      <td>1</td>\n",
       "    </tr>\n",
       "    <tr>\n",
       "      <th>19</th>\n",
       "      <td>z13etj0bclzfztuwc04cgfvrgmf3fvjor1g</td>\n",
       "      <td>Jose Renteria</td>\n",
       "      <td>2013/11/29</td>\n",
       "      <td>we are an edm apparel company dedicated to bri...</td>\n",
       "      <td>1</td>\n",
       "    </tr>\n",
       "    <tr>\n",
       "      <th>20</th>\n",
       "      <td>z12axnji5w2axxht522thb3bktvqjdlbp04</td>\n",
       "      <td>zhichao wang</td>\n",
       "      <td>2013/11/29</td>\n",
       "      <td>i think about valuenumbers millions of the vie...</td>\n",
       "      <td>0</td>\n",
       "    </tr>\n",
       "    <tr>\n",
       "      <th>21</th>\n",
       "      <td>z13ozdmr4lf3uzc5z04cix2zkyjzgvcyemw0k</td>\n",
       "      <td>Carlos Thegamer</td>\n",
       "      <td>2013/12/01</td>\n",
       "      <td>subscribe to my channel people d</td>\n",
       "      <td>1</td>\n",
       "    </tr>\n",
       "    <tr>\n",
       "      <th>22</th>\n",
       "      <td>z12ohdxjtsatvppjb04cctprprb1slnxdf4</td>\n",
       "      <td>OutrightIgnite</td>\n",
       "      <td>2013/12/01</td>\n",
       "      <td>show your auburn pride here weblink</td>\n",
       "      <td>1</td>\n",
       "    </tr>\n",
       "    <tr>\n",
       "      <th>23</th>\n",
       "      <td>z12ntlcqht2bvjewi04cf1up0xjvs5lq3mc0k</td>\n",
       "      <td>Owen Lai</td>\n",
       "      <td>2013/12/01</td>\n",
       "      <td>just checking the views</td>\n",
       "      <td>0</td>\n",
       "    </tr>\n",
       "    <tr>\n",
       "      <th>24</th>\n",
       "      <td>LZQPQhLyRh9EXArr4ZnVcDonSbvSMHKYOT24e_qR6fE</td>\n",
       "      <td>||GuitarZ||</td>\n",
       "      <td>2013/12/23</td>\n",
       "      <td>check out my channel</td>\n",
       "      <td>1</td>\n",
       "    </tr>\n",
       "  </tbody>\n",
       "</table>\n",
       "</div>"
      ],
      "text/plain": [
       "                                     COMMENT_ID                AUTHOR  \\\n",
       "0   LZQPQhLyRh80UYxNuaDWhIGQYNQ96IuCg-AYWqNPjpU             Julius NM   \n",
       "1   LZQPQhLyRh_C2cTtd9MvFRJedxydaVW-2sNg5Diuo4A           adam riyati   \n",
       "2   LZQPQhLyRh9MSZYnf8djyk0gEF9BHDPYrrK-qCczIY8      Evgeny Murashkin   \n",
       "3           z13jhp0bxqncu512g22wvzkasxmvvzjaz04       ElNino Melendez   \n",
       "4           z13fwbwp1oujthgqj04chlngpvzmtt3r3dw                GsMega   \n",
       "5   LZQPQhLyRh9-wNRtlZDM90f1k0BrdVdJyN_YsaSwfxc          Jason Haddad   \n",
       "6           z13lfzdo5vmdi1cm123te5uz2mqig1brz04        ferleck ferles   \n",
       "7         z122wfnzgt30fhubn04cdn3xfx2mxzngsl40k          Bob Kanowski   \n",
       "8           z13ttt1jcraqexk2o234ghbgzxymz1zzi04                  Cony   \n",
       "9           z12avveb4xqiirsix04chxviiljryduwxg0           BeBe Burkey   \n",
       "10        z13auhww3oufjn1qo04ci3grqqjmfjexxuo0k             Huckyduck   \n",
       "11            z13xit5agm2zyh4f523rst2gowmbx5bml           Lone Twistt   \n",
       "12            z13pejoiuozwxtdu323dspopnri4xts0f          Archie Lewis   \n",
       "13        z121zxaxsq25z5k5o04ch1o5jqqfij3gtm40k       TheUploadaddict   \n",
       "14        z12oglnpoq3gjh4om04cfdlbgp2uepyytpw0k        Francisco Nora   \n",
       "15          z13phrmwrkfisn5er22eyrbpbvaiwfvwf04  Gaming and Stuff PRO   \n",
       "16          z13bgdvyluihfv11i22rgxwhuvabzz1os04           Zielimeek21   \n",
       "17          z13vxpnoxsyeuv2jr04cctprprb1slnxdf4        OutrightIgnite   \n",
       "18        z12qth5j0ob1fx3q404chvy4fz32tbkpllk0k        Tony K Frazier   \n",
       "19          z13etj0bclzfztuwc04cgfvrgmf3fvjor1g         Jose Renteria   \n",
       "20          z12axnji5w2axxht522thb3bktvqjdlbp04          zhichao wang   \n",
       "21        z13ozdmr4lf3uzc5z04cix2zkyjzgvcyemw0k       Carlos Thegamer   \n",
       "22          z12ohdxjtsatvppjb04cctprprb1slnxdf4        OutrightIgnite   \n",
       "23        z12ntlcqht2bvjewi04cf1up0xjvs5lq3mc0k              Owen Lai   \n",
       "24  LZQPQhLyRh9EXArr4ZnVcDonSbvSMHKYOT24e_qR6fE           ||GuitarZ||   \n",
       "\n",
       "          DATE                                            CONTENT  CLASS  \n",
       "0   2013/11/07  huh anyway check out this you tube channel val...      1  \n",
       "1   2013/11/07  hey guys check out my new channel and our firs...      1  \n",
       "2   2013/11/08             just for test i have to say murdev com      1  \n",
       "3   2013/11/09         me shaking my sexy ass on my channel enjoy      1  \n",
       "4   2013/11/10                 watch v vtarggvgtwq check this out      1  \n",
       "5   2013/11/26  hey check out my new website this site is abou...      1  \n",
       "6   2013/11/27                            subscribe to my channel      1  \n",
       "7   2013/11/28  i turned it on mute as soon is i came on i jus...      0  \n",
       "8   2013/11/28       you should check my channel for funny videos      1  \n",
       "9   2013/11/28  and u should d check my channel and tell me wh...      1  \n",
       "10  2013/11/28                                hey subscribe to me      1  \n",
       "11  2013/11/28  once you have started reading do not stop if y...      1  \n",
       "12  2013/11/28                                            weblink      1  \n",
       "13  2013/11/28                             subscribe like comment      1  \n",
       "14  2013/11/28                              please like d weblink      1  \n",
       "15  2013/11/28  hello do you like gaming art videos scientific...      1  \n",
       "16  2013/11/28                        i m only checking the views      0  \n",
       "17  2013/11/28                                            weblink      1  \n",
       "18  2013/11/28                                            weblink      1  \n",
       "19  2013/11/29  we are an edm apparel company dedicated to bri...      1  \n",
       "20  2013/11/29  i think about valuenumbers millions of the vie...      0  \n",
       "21  2013/12/01                   subscribe to my channel people d      1  \n",
       "22  2013/12/01                show your auburn pride here weblink      1  \n",
       "23  2013/12/01                            just checking the views      0  \n",
       "24  2013/12/23                               check out my channel      1  "
      ]
     },
     "execution_count": 128,
     "metadata": {},
     "output_type": "execute_result"
    }
   ],
   "source": [
    "def content_clear1(text):\n",
    "    strin = \"\"\n",
    "    for i in text:\n",
    "     text = re.sub(\"[^a-zA-Z]\",\" \",i) \n",
    "     strin += text\n",
    "    \n",
    "    _RE_COMBINE_WHITESPACE = re.compile(r\"\\s+\")\n",
    "    strin = _RE_COMBINE_WHITESPACE.sub(\" \", strin).strip()\n",
    "    strin = strin.lower()\n",
    "    return strin \n",
    "\n",
    "data[\"CONTENT\"] = data[\"CONTENT\"].apply(content_clear1)\n",
    "data.head(n=25)"
   ]
  },
  {
   "cell_type": "code",
   "execution_count": 129,
   "metadata": {},
   "outputs": [],
   "source": [
    "data.to_csv('new_csv', index = False)"
   ]
  },
  {
   "cell_type": "code",
   "execution_count": 130,
   "metadata": {},
   "outputs": [
    {
     "name": "stdout",
     "output_type": "stream",
     "text": [
      "{'m', 'that', \"aren't\", 'between', 'there', 'all', 'no', 'being', 'just', \"you'll\", 'won', 'on', 'our', 'doing', 'by', \"weren't\", 'you', 'your', 'here', 'be', 'had', 'about', \"hadn't\", \"haven't\", 'mustn', 'should', 'ain', 'don', \"wouldn't\", 'under', 'do', 'each', \"shan't\", 'from', 'didn', 'been', 'the', 'they', 'who', 't', 'it', 'theirs', 'those', 'themselves', 'so', 'over', 'he', 'through', 'once', 'until', 'wasn', 'this', 'yourselves', 'is', 'nor', 'ourselves', \"you're\", 'than', 'into', 'in', 'can', 'y', \"needn't\", \"she's\", 'down', 'will', 'their', 'too', 'we', 'were', 'did', \"mustn't\", 'most', 'off', 'very', 'own', 'couldn', 'doesn', \"that'll\", \"you'd\", 'few', 'its', 'not', 'shan', 'himself', 'am', 'against', \"don't\", 'have', 'while', \"didn't\", 'his', \"hasn't\", 'further', 'aren', 'to', 'd', 'o', 'where', 'her', \"couldn't\", 'whom', 'wouldn', 'an', 've', 'hers', 'after', \"it's\", 'mightn', \"doesn't\", 'yours', 'how', 'only', 's', 'me', \"shouldn't\", 'herself', 'out', 'these', 'again', 'before', \"isn't\", 'll', 'more', 'weren', 'having', 'during', 'or', 'as', 'below', 'needn', 're', 'shouldn', 'him', 'my', 'then', 'was', 'which', \"mightn't\", 'and', 'yourself', 'but', 'up', 'ours', 'when', 'she', 'has', 'a', 'with', 'for', 'such', 'are', 'if', 'itself', 'because', 'why', \"won't\", \"you've\", \"wasn't\", 'i', 'myself', 'same', 'hasn', 'some', 'does', 'isn', 'other', 'of', 'above', 'what', 'hadn', 'ma', 'them', 'any', \"should've\", 'now', 'at', 'both', 'haven'}\n"
     ]
    },
    {
     "name": "stderr",
     "output_type": "stream",
     "text": [
      "[nltk_data] Downloading package stopwords to\n",
      "[nltk_data]     C:\\Users\\User\\AppData\\Roaming\\nltk_data...\n",
      "[nltk_data]   Package stopwords is already up-to-date!\n",
      "[nltk_data] Downloading package punkt to\n",
      "[nltk_data]     C:\\Users\\User\\AppData\\Roaming\\nltk_data...\n",
      "[nltk_data]   Package punkt is already up-to-date!\n"
     ]
    }
   ],
   "source": [
    "import nltk \n",
    "from nltk.tokenize import word_tokenize\n",
    "nltk.download('stopwords')\n",
    "from nltk.corpus import stopwords\n",
    "nltk.download('punkt')\n",
    "stop_word = set(stopwords.words('english'))\n",
    "print(stop_word) \n",
    "ps = nltk.PorterStemmer()\n",
    "def prepaing_text (text):\n",
    "    text = word_tokenize(text)\n",
    "    new_text = []\n",
    "    for word in text:\n",
    "        if word not in stopwords.words('english'):\n",
    "            new_text.append(word)\n",
    "\n",
    "    text = new_text[:]  \n",
    "    new_text.clear()\n",
    "    for word in text:\n",
    "        new_text.append(ps.stem(word))\n",
    "\n",
    "    return \" \".join(new_text)  \n"
   ]
  },
  {
   "cell_type": "code",
   "execution_count": 131,
   "metadata": {},
   "outputs": [],
   "source": [
    "def text_split (text):\n",
    "    text = word_tokenize(text)\n",
    "    new_text = []\n",
    "    for word in text:\n",
    "        new_text.append(word)\n",
    "\n",
    "    return new_text"
   ]
  },
  {
   "cell_type": "code",
   "execution_count": 132,
   "metadata": {},
   "outputs": [
    {
     "data": {
      "text/plain": [
       "0         [huh, anyway, check, tube, channel, valuenumb]\n",
       "1      [hey, guy, check, new, channel, first, vid, us...\n",
       "2                               [test, say, murdev, com]\n",
       "3                     [shake, sexi, ass, channel, enjoy]\n",
       "4                         [watch, v, vtarggvgtwq, check]\n",
       "                             ...                        \n",
       "365                       [love, song, sing, camp, time]\n",
       "366    [love, song, two, reason, valuenumb, africa, v...\n",
       "367                                                [wow]\n",
       "368                                 [shakira, u, wiredo]\n",
       "369                              [shakira, best, dancer]\n",
       "Name: CONTENT, Length: 1956, dtype: object"
      ]
     },
     "execution_count": 132,
     "metadata": {},
     "output_type": "execute_result"
    }
   ],
   "source": [
    "\n",
    "data[\"CONTENT\"] = data[\"CONTENT\"].apply(prepaing_text)\n",
    "new_text = data[\"CONTENT\"]\n",
    "new_text = new_text.apply(text_split)\n",
    "new_text\n"
   ]
  },
  {
   "cell_type": "code",
   "execution_count": 133,
   "metadata": {},
   "outputs": [],
   "source": [
    "from sklearn.feature_extraction.text import CountVectorizer\n",
    "vectorizer = CountVectorizer()\n",
    "x = vectorizer.fit_transform(data[\"CONTENT\"])\n",
    "feature_names = vectorizer.get_feature_names_out()\n",
    "feature = pd.DataFrame(x.toarray(), columns = feature_names)\n",
    "\n",
    "#from sklearn.feature_extraction.text import TfidfVectorizer\n",
    "#vectorizer = TfidfVectorizer(max_features = 2000)\n",
    "#x = vectorizer.fit_transform(data[\"CONTENT\"])\n",
    "y = data[\"CLASS\"]"
   ]
  },
  {
   "cell_type": "markdown",
   "metadata": {},
   "source": [
    "Случайные леса"
   ]
  },
  {
   "cell_type": "code",
   "execution_count": 134,
   "metadata": {},
   "outputs": [
    {
     "name": "stdout",
     "output_type": "stream",
     "text": [
      "Traning:  (1467, 2849)  testing:  (489, 2849)\n"
     ]
    }
   ],
   "source": [
    "from sklearn.model_selection import train_test_split\n",
    "x_train, x_test, y_train, y_test = train_test_split(x, y, test_size=0.25, random_state=1)\n",
    "print(\"Traning: \", x_train.shape, \" testing: \", x_test.shape)"
   ]
  },
  {
   "cell_type": "code",
   "execution_count": 135,
   "metadata": {},
   "outputs": [],
   "source": [
    "from sklearn.ensemble import RandomForestClassifier\n",
    "tree = RandomForestClassifier()\n",
    "tree.fit(x_train, y_train)\n",
    "y_tree = tree.predict(x_test)"
   ]
  },
  {
   "cell_type": "code",
   "execution_count": 136,
   "metadata": {},
   "outputs": [
    {
     "name": "stdout",
     "output_type": "stream",
     "text": [
      "0.9652351738241309\n"
     ]
    }
   ],
   "source": [
    "from sklearn.metrics import accuracy_score,classification_report, confusion_matrix, precision_score, recall_score, f1_score, balanced_accuracy_score\n",
    "print(accuracy_score(y_test,y_tree))"
   ]
  },
  {
   "cell_type": "code",
   "execution_count": 137,
   "metadata": {},
   "outputs": [
    {
     "name": "stdout",
     "output_type": "stream",
     "text": [
      "[[228   1]\n",
      " [ 16 244]]\n"
     ]
    }
   ],
   "source": [
    "print(confusion_matrix(y_test,y_tree))"
   ]
  },
  {
   "cell_type": "code",
   "execution_count": 138,
   "metadata": {},
   "outputs": [
    {
     "data": {
      "text/html": [
       "<div>\n",
       "<style scoped>\n",
       "    .dataframe tbody tr th:only-of-type {\n",
       "        vertical-align: middle;\n",
       "    }\n",
       "\n",
       "    .dataframe tbody tr th {\n",
       "        vertical-align: top;\n",
       "    }\n",
       "\n",
       "    .dataframe thead th {\n",
       "        text-align: right;\n",
       "    }\n",
       "</style>\n",
       "<table border=\"1\" class=\"dataframe\">\n",
       "  <thead>\n",
       "    <tr style=\"text-align: right;\">\n",
       "      <th></th>\n",
       "      <th>model</th>\n",
       "      <th>logloss</th>\n",
       "      <th>accuracy</th>\n",
       "      <th>weighed_accuracy</th>\n",
       "      <th>precision</th>\n",
       "      <th>recall</th>\n",
       "      <th>f1</th>\n",
       "    </tr>\n",
       "  </thead>\n",
       "  <tbody>\n",
       "    <tr>\n",
       "      <th>0</th>\n",
       "      <td>RF</td>\n",
       "      <td>1.253051</td>\n",
       "      <td>0.965235</td>\n",
       "      <td>0.967047</td>\n",
       "      <td>0.995918</td>\n",
       "      <td>0.938462</td>\n",
       "      <td>0.966337</td>\n",
       "    </tr>\n",
       "  </tbody>\n",
       "</table>\n",
       "</div>"
      ],
      "text/plain": [
       "  model   logloss  accuracy  weighed_accuracy  precision    recall        f1\n",
       "0    RF  1.253051  0.965235          0.967047   0.995918  0.938462  0.966337"
      ]
     },
     "execution_count": 138,
     "metadata": {},
     "output_type": "execute_result"
    }
   ],
   "source": [
    "from sklearn.metrics import log_loss\n",
    "results = []\n",
    "results.append({\"model\": \"RF\", \n",
    " \"logloss\": log_loss(y_test, y_tree),\n",
    " \"accuracy\": accuracy_score(y_test, y_tree),\n",
    " \"weighed_accuracy\": \n",
    "balanced_accuracy_score(y_test, y_tree),\n",
    " \"precision\": precision_score(y_test, y_tree),\n",
    " \"recall\": recall_score(y_test, y_tree),\n",
    " \"f1\": f1_score(y_test, y_tree),\n",
    " })\n",
    "pd.DataFrame(results)"
   ]
  },
  {
   "cell_type": "code",
   "execution_count": 139,
   "metadata": {},
   "outputs": [
    {
     "data": {
      "image/png": "[encoded data removed]",
      "text/plain": [
       "<Figure size 640x480 with 1 Axes>"
      ]
     },
     "metadata": {},
     "output_type": "display_data"
    }
   ],
   "source": [
    "from sklearn.metrics import roc_auc_score\n",
    "from sklearn.metrics import roc_curve\n",
    "tree_roc_auc = roc_auc_score(y_test, tree.predict(x_test))\n",
    "fpr, tpr, thresholds = roc_curve(y_test, tree.predict_proba(x_test)[:,1])\n",
    "plt.figure()\n",
    "plt.plot(fpr, tpr, label='Tree (area = %0.2f)' % tree_roc_auc)\n",
    "plt.plot([0, 1], [0, 1],'r--')\n",
    "plt.xlim([0.0, 1.0])\n",
    "plt.ylim([0.0, 1.05])\n",
    "plt.xlabel('False Positive Rate')\n",
    "plt.ylabel('True Positive Rate')\n",
    "plt.title('Receiver operating characteristic')\n",
    "plt.legend(loc=\"lower right\")\n",
    "plt.savefig('Tree_ROC')\n",
    "plt.show()"
   ]
  },
  {
   "cell_type": "markdown",
   "metadata": {},
   "source": [
    "LSTM"
   ]
  },
  {
   "cell_type": "code",
   "execution_count": 140,
   "metadata": {},
   "outputs": [
    {
     "name": "stdout",
     "output_type": "stream",
     "text": [
      "2865\n",
      "99\n"
     ]
    }
   ],
   "source": [
    "import tensorflow as tf\n",
    "from keras.preprocessing import sequence\n",
    "tokenizer = tf.keras.preprocessing.text.Tokenizer()\n",
    "tokenizer.fit_on_texts(new_text)\n",
    "print(len(tokenizer.word_index))\n",
    "sequences = tokenizer.texts_to_sequences(new_text)\n",
    "max_seq_len = np.max(list(map(len, sequences)))\n",
    "X_preparing = sequence.pad_sequences(sequences,maxlen=max_seq_len)\n",
    "print(X_preparing.shape[1])"
   ]
  },
  {
   "cell_type": "code",
   "execution_count": 141,
   "metadata": {},
   "outputs": [],
   "source": [
    "X1_train, X1_test, Y1_train, Y1_test = train_test_split(X_preparing, data['CLASS'], test_size = 0.25, random_state = 1)"
   ]
  },
  {
   "cell_type": "code",
   "execution_count": 142,
   "metadata": {},
   "outputs": [
    {
     "name": "stdout",
     "output_type": "stream",
     "text": [
      "Model: \"sequential_4\"\n",
      "_________________________________________________________________\n",
      " Layer (type)                Output Shape              Param #   \n",
      "=================================================================\n",
      " embedding_4 (Embedding)     (None, None, 100)         300000    \n",
      "                                                                 \n",
      " lstm_4 (LSTM)               (None, 8)                 3488      \n",
      "                                                                 \n",
      " dense_4 (Dense)             (None, 1)                 9         \n",
      "                                                                 \n",
      "=================================================================\n",
      "Total params: 303497 (1.16 MB)\n",
      "Trainable params: 303497 (1.16 MB)\n",
      "Non-trainable params: 0 (0.00 Byte)\n",
      "_________________________________________________________________\n",
      "Epoch 1/10\n",
      "23/23 [==============================] - 3s 59ms/step - loss: 0.6937 - accuracy: 0.4724 - val_loss: 0.6914 - val_accuracy: 0.5562\n",
      "Epoch 2/10\n",
      "23/23 [==============================] - 1s 32ms/step - loss: 0.6925 - accuracy: 0.5392 - val_loss: 0.6902 - val_accuracy: 0.5971\n",
      "Epoch 3/10\n",
      "23/23 [==============================] - 1s 32ms/step - loss: 0.6913 - accuracy: 0.5774 - val_loss: 0.6891 - val_accuracy: 0.6462\n",
      "Epoch 4/10\n",
      "23/23 [==============================] - 1s 30ms/step - loss: 0.6902 - accuracy: 0.6135 - val_loss: 0.6879 - val_accuracy: 0.7035\n",
      "Epoch 5/10\n",
      "23/23 [==============================] - 1s 31ms/step - loss: 0.6891 - accuracy: 0.6237 - val_loss: 0.6868 - val_accuracy: 0.7198\n",
      "Epoch 6/10\n",
      "23/23 [==============================] - 1s 32ms/step - loss: 0.6880 - accuracy: 0.6367 - val_loss: 0.6856 - val_accuracy: 0.7362\n",
      "Epoch 7/10\n",
      "23/23 [==============================] - 1s 34ms/step - loss: 0.6869 - accuracy: 0.6469 - val_loss: 0.6844 - val_accuracy: 0.6892\n",
      "Epoch 8/10\n",
      "23/23 [==============================] - 1s 31ms/step - loss: 0.6858 - accuracy: 0.6333 - val_loss: 0.6832 - val_accuracy: 0.6810\n",
      "Epoch 9/10\n",
      "23/23 [==============================] - 1s 34ms/step - loss: 0.6847 - accuracy: 0.6339 - val_loss: 0.6820 - val_accuracy: 0.6851\n",
      "Epoch 10/10\n",
      "23/23 [==============================] - 1s 31ms/step - loss: 0.6836 - accuracy: 0.6619 - val_loss: 0.6808 - val_accuracy: 0.6830\n"
     ]
    },
    {
     "data": {
      "text/plain": [
       "<keras.src.callbacks.History at 0x28ff7fe5760>"
      ]
     },
     "execution_count": 142,
     "metadata": {},
     "output_type": "execute_result"
    }
   ],
   "source": [
    "from tensorflow import keras\n",
    "from keras.layers import Dense\n",
    "from keras.models import Sequential\n",
    "from keras.layers import Embedding,LSTM\n",
    "model1 = Sequential()\n",
    "model1.add(Embedding(3000, 100))\n",
    "model1.add(LSTM(8))\n",
    "model1.add(Dense(1,activation='sigmoid'))\n",
    "model1.summary()\n",
    "model1.compile(loss='binary_crossentropy',optimizer='SGD',metrics=['accuracy'])\n",
    "model1.fit(X1_train,Y1_train,epochs=10,validation_data=(X1_test,Y1_test),batch_size=64)"
   ]
  },
  {
   "cell_type": "code",
   "execution_count": 143,
   "metadata": {},
   "outputs": [
    {
     "name": "stdout",
     "output_type": "stream",
     "text": [
      "Accuracy : 68.0824%\n",
      "16/16 [==============================] - 0s 6ms/step\n",
      "[[166  63]\n",
      " [ 92 168]]\n"
     ]
    }
   ],
   "source": [
    "\n",
    "results = model1.evaluate(X1_test, Y1_test, verbose = 0)\n",
    "print(f'Accuracy : {round(results[0]*100, 4)}%')\n",
    "y_pred = np.squeeze(model1.predict(X1_test) >= 0.5).astype(np.int64)\n",
    "print(confusion_matrix(Y1_test,y_pred))"
   ]
  },
  {
   "cell_type": "code",
   "execution_count": 144,
   "metadata": {},
   "outputs": [
    {
     "data": {
      "text/html": [
       "<div>\n",
       "<style scoped>\n",
       "    .dataframe tbody tr th:only-of-type {\n",
       "        vertical-align: middle;\n",
       "    }\n",
       "\n",
       "    .dataframe tbody tr th {\n",
       "        vertical-align: top;\n",
       "    }\n",
       "\n",
       "    .dataframe thead th {\n",
       "        text-align: right;\n",
       "    }\n",
       "</style>\n",
       "<table border=\"1\" class=\"dataframe\">\n",
       "  <thead>\n",
       "    <tr style=\"text-align: right;\">\n",
       "      <th></th>\n",
       "      <th>model</th>\n",
       "      <th>logloss</th>\n",
       "      <th>accuracy</th>\n",
       "      <th>weighed_accuracy</th>\n",
       "      <th>precision</th>\n",
       "      <th>recall</th>\n",
       "      <th>f1</th>\n",
       "    </tr>\n",
       "  </thead>\n",
       "  <tbody>\n",
       "    <tr>\n",
       "      <th>0</th>\n",
       "      <td>RF</td>\n",
       "      <td>11.42488</td>\n",
       "      <td>0.683027</td>\n",
       "      <td>0.685522</td>\n",
       "      <td>0.727273</td>\n",
       "      <td>0.646154</td>\n",
       "      <td>0.684318</td>\n",
       "    </tr>\n",
       "  </tbody>\n",
       "</table>\n",
       "</div>"
      ],
      "text/plain": [
       "  model   logloss  accuracy  weighed_accuracy  precision    recall        f1\n",
       "0    RF  11.42488  0.683027          0.685522   0.727273  0.646154  0.684318"
      ]
     },
     "execution_count": 144,
     "metadata": {},
     "output_type": "execute_result"
    }
   ],
   "source": [
    "results1 = []\n",
    "results1.append({\"model\": \"RF\", \n",
    " \"logloss\": log_loss(Y1_test, y_pred),\n",
    " \"accuracy\": accuracy_score(Y1_test, y_pred),\n",
    " \"weighed_accuracy\": \n",
    "balanced_accuracy_score(Y1_test, y_pred),\n",
    " \"precision\": precision_score(Y1_test, y_pred),\n",
    " \"recall\": recall_score(Y1_test, y_pred),\n",
    " \"f1\": f1_score(Y1_test, y_pred),\n",
    " })\n",
    "pd.DataFrame(results1)"
   ]
  },
  {
   "cell_type": "code",
   "execution_count": 145,
   "metadata": {},
   "outputs": [
    {
     "name": "stdout",
     "output_type": "stream",
     "text": [
      "16/16 [==============================] - 0s 7ms/step\n",
      "16/16 [==============================] - 0s 7ms/step\n"
     ]
    },
    {
     "data": {
      "image/png": "[encoded data removed]",
      "text/plain": [
       "<Figure size 640x480 with 1 Axes>"
      ]
     },
     "metadata": {},
     "output_type": "display_data"
    }
   ],
   "source": [
    "lstm_roc_auc = roc_auc_score(Y1_test, model1.predict(X1_test))\n",
    "fpr, tpr, thresholds = roc_curve(Y1_test, model1.predict(X1_test))\n",
    "plt.figure()\n",
    "plt.plot(fpr, tpr, label='LSTM (area = %0.2f)' % lstm_roc_auc)\n",
    "plt.plot([0, 1], [0, 1],'r--')\n",
    "plt.xlim([0.0, 1.0])\n",
    "plt.ylim([0.0, 1.05])\n",
    "plt.xlabel('False Positive Rate')\n",
    "plt.ylabel('True Positive Rate')\n",
    "plt.title('Receiver operating characteristic')\n",
    "plt.legend(loc=\"lower right\")\n",
    "plt.savefig('LSTM_ROC')\n",
    "plt.show()"
   ]
  }
 ],
 "metadata": {
  "kernelspec": {
   "display_name": "Python 3",
   "language": "python",
   "name": "python3"
  },
  "language_info": {
   "codemirror_mode": {
    "name": "ipython",
    "version": 3
   },
   "file_extension": ".py",
   "mimetype": "text/x-python",
   "name": "python",
   "nbconvert_exporter": "python",
   "pygments_lexer": "ipython3",
   "version": "3.8.10"
  }
 },
 "nbformat": 4,
 "nbformat_minor": 2
}
